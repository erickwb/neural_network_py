{
  "nbformat": 4,
  "nbformat_minor": 0,
  "metadata": {
    "colab": {
      "name": "MNIST_with_tensoflow.ipynb",
      "provenance": [],
      "collapsed_sections": []
    },
    "kernelspec": {
      "name": "python3",
      "display_name": "Python 3"
    },
    "accelerator": "GPU"
  },
  "cells": [
    {
      "cell_type": "markdown",
      "metadata": {
        "id": "jsLqqUd8escA"
      },
      "source": [
        "Name: Erick Correia Silva\n",
        "\n",
        "\n",
        "reconhecimento de digitos do MNIST com tensoflow\n"
      ]
    },
    {
      "cell_type": "code",
      "metadata": {
        "id": "co7Z2IFweqXo"
      },
      "source": [
        "#imports \n",
        "import os\n",
        "import numpy as np\n",
        "import tensorflow as tf\n",
        "from tensorflow import keras\n",
        "from tensorflow.keras import layers, optimizers, datasets\n",
        "from tensorflow.keras.models import load_model\n",
        "import matplotlib.pyplot as plt\n",
        "\n",
        "\n"
      ],
      "execution_count": null,
      "outputs": []
    },
    {
      "cell_type": "markdown",
      "metadata": {
        "id": "uFT-VbxkwVx7"
      },
      "source": [
        "### Carregando o Dataset MNIST\n"
      ]
    },
    {
      "cell_type": "code",
      "metadata": {
        "id": "V_PDSV8BwWYk",
        "colab": {
          "base_uri": "https://localhost:8080/"
        },
        "outputId": "d8feae98-32ce-4777-bfee-a5a39940094b"
      },
      "source": [
        "#o carregamento é simples\n",
        "(x_train_raw, y_train_raw), (x_test_raw, y_test_raw) = datasets.mnist.load_data() \n",
        "\n",
        "#visualizemos o seu formato\n",
        "print(y_train_raw[0])\n",
        "print(x_train_raw.shape, y_train_raw.shape)\n",
        "print(x_test_raw.shape, y_test_raw.shape)"
      ],
      "execution_count": null,
      "outputs": [
        {
          "output_type": "stream",
          "name": "stdout",
          "text": [
            "5\n",
            "(60000, 28, 28) (60000,)\n",
            "(10000, 28, 28) (10000,)\n"
          ]
        }
      ]
    },
    {
      "cell_type": "markdown",
      "metadata": {
        "id": "9HhqqmfgCTip"
      },
      "source": [
        "###  Tratando os Dados Categóricos\n",
        "\n"
      ]
    },
    {
      "cell_type": "code",
      "metadata": {
        "id": "ZsEyid7uLpgp",
        "colab": {
          "base_uri": "https://localhost:8080/"
        },
        "outputId": "db9e9c80-ac98-46ca-a07c-b9b5ec2df853"
      },
      "source": [
        "print( y_train_raw[0:4])"
      ],
      "execution_count": null,
      "outputs": [
        {
          "output_type": "stream",
          "name": "stdout",
          "text": [
            "[5 0 4 1]\n"
          ]
        }
      ]
    },
    {
      "cell_type": "code",
      "metadata": {
        "id": "nuY5fAhICWi0",
        "colab": {
          "base_uri": "https://localhost:8080/"
        },
        "outputId": "45a166b9-0a81-46a5-db73-83df0b84e3ec"
      },
      "source": [
        "#conversão de labels (rótulos) em one-hot vectors (one-hot codes).\n",
        "num_classes = 10\n",
        "y_train = keras.utils.to_categorical(y_train_raw, num_classes)\n",
        "y_test = keras.utils.to_categorical(y_test_raw, num_classes)\n",
        "\n",
        "#resultado para a 1ª amostra\n",
        "print( 'categoria original: ',  y_train_raw[0])\n",
        "print( 'vetor one-hot correspondente: ',  y_train[0])\n",
        "\n",
        "#resultado para as amostras 2, 3, 4 e 5\n",
        "print( '\\ncategorias originais:\\n',  y_train_raw[1:5])\n",
        "print( 'vetores one-hot correspondentes:\\n',  y_train[1:5])"
      ],
      "execution_count": null,
      "outputs": [
        {
          "output_type": "stream",
          "name": "stdout",
          "text": [
            "categoria original:  5\n",
            "vetor one-hot correspondente:  [0. 0. 0. 0. 0. 1. 0. 0. 0. 0.]\n",
            "\n",
            "categorias originais:\n",
            " [0 4 1 9]\n",
            "vetores one-hot correspondentes:\n",
            " [[1. 0. 0. 0. 0. 0. 0. 0. 0. 0.]\n",
            " [0. 0. 0. 0. 1. 0. 0. 0. 0. 0.]\n",
            " [0. 1. 0. 0. 0. 0. 0. 0. 0. 0.]\n",
            " [0. 0. 0. 0. 0. 0. 0. 0. 0. 1.]]\n"
          ]
        }
      ]
    },
    {
      "cell_type": "markdown",
      "metadata": {
        "id": "86ouzCvGECZo"
      },
      "source": [
        "### Visualizando Imagens do Dataset\n"
      ]
    },
    {
      "cell_type": "code",
      "metadata": {
        "id": "Ap6xTzw2D_QL",
        "colab": {
          "base_uri": "https://localhost:8080/",
          "height": 248
        },
        "outputId": "db6b1b6a-8fe4-4831-bcae-0176e57b5099"
      },
      "source": [
        "#Desenhando as 25 primeiras imagens do conjunto de treinamento.\n",
        "plt.figure()\n",
        "for i in range(25):\n",
        "    plt.subplot(5,5,i+1)\n",
        "    plt.imshow( x_train_raw[i] )\n",
        "    plt.ylabel( y_train_raw[i] )\n",
        "    plt.axis('off')\n",
        "plt.show()"
      ],
      "execution_count": null,
      "outputs": [
        {
          "output_type": "display_data",
          "data": {
            "image/png": "[encoded data removed]",
            "text/plain": [
              "<Figure size 432x288 with 25 Axes>"
            ]
          },
          "metadata": {
            "needs_background": "light"
          }
        }
      ]
    },
    {
      "cell_type": "markdown",
      "metadata": {
        "id": "5JniD-Duw76u"
      },
      "source": [
        "### Pré-Processamento dos Dados\n",
        "\n"
      ]
    },
    {
      "cell_type": "code",
      "metadata": {
        "id": "QERbhqRYxCdy"
      },
      "source": [
        "#conversão simples\n",
        "x_train = x_train_raw.reshape(60000, 784)\n",
        "x_test = x_test_raw.reshape(10000, 784)"
      ],
      "execution_count": null,
      "outputs": []
    },
    {
      "cell_type": "code",
      "metadata": {
        "id": "oJCW4K9FxKBB"
      },
      "source": [
        "#ajusta a faixa dinâmica de valores\n",
        "x_train = x_train.astype('float32')/255.0\n",
        "x_test = x_test.astype('float32')/255.0\n"
      ],
      "execution_count": null,
      "outputs": []
    },
    {
      "cell_type": "markdown",
      "metadata": {
        "id": "Q-IRTHEDxmBG"
      },
      "source": [
        "### Construindo e Treinando uma DNN\n"
      ]
    },
    {
      "cell_type": "code",
      "metadata": {
        "id": "dSfQOYEHxsmf",
        "colab": {
          "base_uri": "https://localhost:8080/"
        },
        "outputId": "4e9dc125-397d-4259-e07b-adfd69760285"
      },
      "source": [
        "#modelo DNN:\n",
        "# 3 camadas totalmente conectadas e ativações ReLU.\n",
        "# a saída usa softmax para favorecer a classificação baseada em one-hot vector\n",
        "model = keras.Sequential([ \n",
        "    layers.Dense(512, activation='relu', input_dim = 784),    \n",
        "    layers.Dense(256, activation='relu'),\n",
        "    layers.Dense(124, activation='relu'),\n",
        "    layers.Dense(num_classes, activation='softmax')])\n",
        "\n",
        "#visualiza o modelo: 512\n",
        "print( model.input_shape )\n",
        "print( model.summary() )"
      ],
      "execution_count": null,
      "outputs": [
        {
          "output_type": "stream",
          "name": "stdout",
          "text": [
            "(None, 784)\n",
            "Model: \"sequential_2\"\n",
            "_________________________________________________________________\n",
            "Layer (type)                 Output Shape              Param #   \n",
            "=================================================================\n",
            "dense_6 (Dense)              (None, 512)               401920    \n",
            "_________________________________________________________________\n",
            "dense_7 (Dense)              (None, 256)               131328    \n",
            "_________________________________________________________________\n",
            "dense_8 (Dense)              (None, 124)               31868     \n",
            "_________________________________________________________________\n",
            "dense_9 (Dense)              (None, 10)                1250      \n",
            "=================================================================\n",
            "Total params: 566,366\n",
            "Trainable params: 566,366\n",
            "Non-trainable params: 0\n",
            "_________________________________________________________________\n",
            "None\n"
          ]
        }
      ]
    },
    {
      "cell_type": "markdown",
      "metadata": {
        "id": "2SXMQynLxylo"
      },
      "source": [
        "#### Configurando a Aprendizagem da DNN\n"
      ]
    },
    {
      "cell_type": "code",
      "metadata": {
        "id": "1FIWHjUZxxsI"
      },
      "source": [
        "# Adam com learning rate = 0.001\n",
        "Optimizer = optimizers.Adam(0.001)\n",
        "model.compile(loss=keras.losses.categorical_crossentropy,\n",
        "              optimizer=Optimizer,\n",
        "              metrics=['accuracy'])"
      ],
      "execution_count": null,
      "outputs": []
    },
    {
      "cell_type": "markdown",
      "metadata": {
        "id": "RaQv8GwHx_AT"
      },
      "source": [
        "####  Treinando o Modelo DNN"
      ]
    },
    {
      "cell_type": "code",
      "metadata": {
        "id": "u-NAr72cyCIE",
        "colab": {
          "base_uri": "https://localhost:8080/"
        },
        "outputId": "911bdf0d-e0f8-437f-d8bb-f8a64b2c0099"
      },
      "source": [
        "# verifica uso da GPU\n",
        "print( tf.config.list_physical_devices('GPU') )\n",
        "print()\n",
        "\n",
        "#treinamento é realizado usando:\n",
        "#10 épocas, divididas em batches grandes (128 amostras cada)\n",
        "model.fit(x_train, y_train,\n",
        "          batch_size=128,\n",
        "          epochs=10,\n",
        "          verbose=1)"
      ],
      "execution_count": null,
      "outputs": [
        {
          "output_type": "stream",
          "name": "stdout",
          "text": [
            "[PhysicalDevice(name='/physical_device:GPU:0', device_type='GPU')]\n",
            "\n",
            "Epoch 1/10\n",
            "469/469 [==============================] - 2s 4ms/step - loss: 0.2246 - accuracy: 0.9342\n",
            "Epoch 2/10\n",
            "469/469 [==============================] - 2s 4ms/step - loss: 0.0833 - accuracy: 0.9749\n",
            "Epoch 3/10\n",
            "469/469 [==============================] - 2s 4ms/step - loss: 0.0529 - accuracy: 0.9836\n",
            "Epoch 4/10\n",
            "469/469 [==============================] - 2s 4ms/step - loss: 0.0417 - accuracy: 0.9862\n",
            "Epoch 5/10\n",
            "469/469 [==============================] - 2s 4ms/step - loss: 0.0302 - accuracy: 0.9905\n",
            "Epoch 6/10\n",
            "469/469 [==============================] - 2s 4ms/step - loss: 0.0243 - accuracy: 0.9917\n",
            "Epoch 7/10\n",
            "469/469 [==============================] - 2s 4ms/step - loss: 0.0206 - accuracy: 0.9931\n",
            "Epoch 8/10\n",
            "469/469 [==============================] - 2s 4ms/step - loss: 0.0204 - accuracy: 0.9931\n",
            "Epoch 9/10\n",
            "469/469 [==============================] - 2s 4ms/step - loss: 0.0165 - accuracy: 0.9942\n",
            "Epoch 10/10\n",
            "469/469 [==============================] - 2s 4ms/step - loss: 0.0159 - accuracy: 0.9950\n"
          ]
        },
        {
          "output_type": "execute_result",
          "data": {
            "text/plain": [
              "<keras.callbacks.History at 0x7fdfedbd5750>"
            ]
          },
          "metadata": {},
          "execution_count": 30
        }
      ]
    },
    {
      "cell_type": "markdown",
      "metadata": {
        "id": "nFgipdr8yIlO"
      },
      "source": [
        "#### Avaliando o Modelo DNN\n",
        "O desempenho do modelo é avaliado em termos de loss e de acurácia, sendo que essa métrica foi fornecida durante a etapa de configuração."
      ]
    },
    {
      "cell_type": "code",
      "metadata": {
        "id": "ALsw88YkyKWK",
        "colab": {
          "base_uri": "https://localhost:8080/"
        },
        "outputId": "4e99d427-0569-4592-dc98-cdc715ab594e"
      },
      "source": [
        "\n",
        "score = model.evaluate(x_test, y_test, verbose=0)\n",
        "print('Test loss:', score[0])\n",
        "print('Test accuracy:', score[1])"
      ],
      "execution_count": null,
      "outputs": [
        {
          "output_type": "stream",
          "name": "stdout",
          "text": [
            "Test loss: 0.0868203341960907\n",
            "Test accuracy: 0.9801999926567078\n"
          ]
        }
      ]
    },
    {
      "cell_type": "markdown",
      "metadata": {
        "id": "rLdrl3syyPvT"
      },
      "source": [
        "####  Salvando o Modelo DNN Treinado"
      ]
    },
    {
      "cell_type": "code",
      "metadata": {
        "id": "cEx332cfyZLX",
        "colab": {
          "base_uri": "https://localhost:8080/"
        },
        "outputId": "c7eecfb0-cc9c-4bae-b24d-201b855a5810"
      },
      "source": [
        "try:\n",
        "    os.makedirs('mnist_model')\n",
        "    print('creating \\'./mnist_model/\\'')\n",
        "except FileExistsError as e:\n",
        "    print('\\'./mnist_model/\\' already exists')\n",
        "\n",
        "model.save('./mnist_model/final_DNN_model.h5')"
      ],
      "execution_count": null,
      "outputs": [
        {
          "output_type": "stream",
          "name": "stdout",
          "text": [
            "'./mnist_model/' already exists\n"
          ]
        }
      ]
    },
    {
      "cell_type": "markdown",
      "metadata": {
        "id": "efh_1D7Pz8HT"
      },
      "source": [
        "###Construindo e Treinando uma CNN\n"
      ]
    },
    {
      "cell_type": "markdown",
      "metadata": {
        "id": "KoTnrscp0Awy"
      },
      "source": [
        "#### Construindo uma CNN\n"
      ]
    },
    {
      "cell_type": "code",
      "metadata": {
        "id": "Bs8zrvs71Wop",
        "colab": {
          "base_uri": "https://localhost:8080/"
        },
        "outputId": "838a4b0b-3196-416a-d947-36a849e6c3d3"
      },
      "source": [
        "#é um modelo de camadas sequenciais\n",
        "model=keras.Sequential()\n",
        "#primeira convolução com kernel 5x5 + pooling 2x2\n",
        "model.add(keras.layers.Conv2D(filters=32,kernel_size = 5,strides = (1,1),\n",
        "                              padding = 'same',activation = tf.nn.relu,input_shape = (28,28,1)))\n",
        "model.add(keras.layers.MaxPool2D(pool_size=(2,2), strides = (2,2), padding = 'valid'))\n",
        "\n",
        "#segunda convolução com kernel 3x3 + pooling 2x2\n",
        "model.add(keras.layers.Conv2D(filters=64,kernel_size = 3,strides = (1,1),padding = 'same',activation = tf.nn.relu))\n",
        "model.add(keras.layers.MaxPool2D(pool_size=(2,2), strides = (2,2), padding = 'valid'))\n",
        "\n",
        "#dropout com fator de 25% + conversão em vetor (flatten)\n",
        "model.add(keras.layers.Dropout(0.25))\n",
        "model.add(keras.layers.Flatten())\n",
        "\n",
        "# duas camadas densas com dropout de 50% entre elas\n",
        "#a segunda camada usa softmax\n",
        "model.add(keras.layers.Dense(units=128,activation = tf.nn.relu))\n",
        "model.add(keras.layers.Dropout(0.5))\n",
        "model.add(keras.layers.Dense(units=10,activation = tf.nn.softmax))\n",
        "\n",
        "#exibe o resultado\n",
        "print( model.summary() )"
      ],
      "execution_count": null,
      "outputs": [
        {
          "output_type": "stream",
          "name": "stdout",
          "text": [
            "Model: \"sequential_3\"\n",
            "_________________________________________________________________\n",
            "Layer (type)                 Output Shape              Param #   \n",
            "=================================================================\n",
            "conv2d_2 (Conv2D)            (None, 28, 28, 32)        832       \n",
            "_________________________________________________________________\n",
            "max_pooling2d_2 (MaxPooling2 (None, 14, 14, 32)        0         \n",
            "_________________________________________________________________\n",
            "conv2d_3 (Conv2D)            (None, 14, 14, 64)        18496     \n",
            "_________________________________________________________________\n",
            "max_pooling2d_3 (MaxPooling2 (None, 7, 7, 64)          0         \n",
            "_________________________________________________________________\n",
            "dropout_2 (Dropout)          (None, 7, 7, 64)          0         \n",
            "_________________________________________________________________\n",
            "flatten_1 (Flatten)          (None, 3136)              0         \n",
            "_________________________________________________________________\n",
            "dense_10 (Dense)             (None, 128)               401536    \n",
            "_________________________________________________________________\n",
            "dropout_3 (Dropout)          (None, 128)               0         \n",
            "_________________________________________________________________\n",
            "dense_11 (Dense)             (None, 10)                1290      \n",
            "=================================================================\n",
            "Total params: 422,154\n",
            "Trainable params: 422,154\n",
            "Non-trainable params: 0\n",
            "_________________________________________________________________\n",
            "None\n"
          ]
        }
      ]
    },
    {
      "cell_type": "markdown",
      "metadata": {
        "id": "aa1qCd_l0Hyv"
      },
      "source": [
        "#### Treinando o Modelo CNN\n"
      ]
    },
    {
      "cell_type": "code",
      "metadata": {
        "id": "XjTsNVpT1Mem",
        "colab": {
          "base_uri": "https://localhost:8080/"
        },
        "outputId": "55eed06e-9603-476c-d784-32e480e902d2"
      },
      "source": [
        "# verifica se estamos usando GPU\n",
        "print( tf.config.list_physical_devices('GPU') )\n",
        "print()\n",
        "\n",
        "\n",
        "X_train=x_train.reshape(60000,28,28,1)\n",
        "X_test=x_test.reshape(10000,28,28,1)\n",
        "\n",
        "#reutilizando Adam e os outros parâmetros adotados na DNN\n",
        "model.compile( optimizer=keras.optimizers.Adam(0.001),\n",
        "               loss=\"categorical_crossentropy\",\n",
        "               metrics=['accuracy']) \n",
        "\n",
        "#treinamento: 5 épocas \n",
        "model.fit(x=X_train,y=y_train,epochs=10,batch_size=128)"
      ],
      "execution_count": null,
      "outputs": [
        {
          "output_type": "stream",
          "name": "stdout",
          "text": [
            "[PhysicalDevice(name='/physical_device:GPU:0', device_type='GPU')]\n",
            "\n",
            "Epoch 1/10\n",
            "469/469 [==============================] - 5s 9ms/step - loss: 0.2879 - accuracy: 0.9097\n",
            "Epoch 2/10\n",
            "469/469 [==============================] - 4s 9ms/step - loss: 0.0914 - accuracy: 0.9724\n",
            "Epoch 3/10\n",
            "469/469 [==============================] - 4s 9ms/step - loss: 0.0714 - accuracy: 0.9791\n",
            "Epoch 4/10\n",
            "469/469 [==============================] - 4s 9ms/step - loss: 0.0574 - accuracy: 0.9823\n",
            "Epoch 5/10\n",
            "469/469 [==============================] - 4s 9ms/step - loss: 0.0503 - accuracy: 0.9848\n",
            "Epoch 6/10\n",
            "469/469 [==============================] - 4s 9ms/step - loss: 0.0450 - accuracy: 0.9861\n",
            "Epoch 7/10\n",
            "469/469 [==============================] - 4s 9ms/step - loss: 0.0394 - accuracy: 0.9881\n",
            "Epoch 8/10\n",
            "469/469 [==============================] - 4s 9ms/step - loss: 0.0366 - accuracy: 0.9889\n",
            "Epoch 9/10\n",
            "469/469 [==============================] - 4s 9ms/step - loss: 0.0310 - accuracy: 0.9905\n",
            "Epoch 10/10\n",
            "469/469 [==============================] - 4s 9ms/step - loss: 0.0314 - accuracy: 0.9906\n"
          ]
        },
        {
          "output_type": "execute_result",
          "data": {
            "text/plain": [
              "<keras.callbacks.History at 0x7fe096206b50>"
            ]
          },
          "metadata": {},
          "execution_count": 34
        }
      ]
    },
    {
      "cell_type": "markdown",
      "metadata": {
        "id": "HiAT6kHk0NIH"
      },
      "source": [
        "####  Avaliando o Modelo CNN\n"
      ]
    },
    {
      "cell_type": "code",
      "metadata": {
        "id": "faOOy0tT1CDR",
        "colab": {
          "base_uri": "https://localhost:8080/"
        },
        "outputId": "82c6c17a-5192-411a-9387-8facf9b5796a"
      },
      "source": [
        "test_loss,test_acc=model.evaluate(x=X_test,y=y_test)\n",
        "\n",
        "print(\"\\nAcurácia de Teste: %.4f\"%test_acc)"
      ],
      "execution_count": null,
      "outputs": [
        {
          "output_type": "stream",
          "name": "stdout",
          "text": [
            "313/313 [==============================] - 2s 5ms/step - loss: 0.0229 - accuracy: 0.9931\n",
            "\n",
            "Acurácia de Teste: 0.9931\n"
          ]
        }
      ]
    },
    {
      "cell_type": "markdown",
      "metadata": {
        "id": "x_GenELh0boe"
      },
      "source": [
        "####  Salvando o Modelo CNN\n"
      ]
    },
    {
      "cell_type": "code",
      "metadata": {
        "id": "Kxz50lqx0-uK"
      },
      "source": [
        "model.save('./mnist_model/final_CNN_model.h5')"
      ],
      "execution_count": null,
      "outputs": []
    },
    {
      "cell_type": "markdown",
      "metadata": {
        "id": "_x8MbFSx0g5F"
      },
      "source": [
        "####  Inferência e Visualização de Resultados"
      ]
    },
    {
      "cell_type": "code",
      "metadata": {
        "id": "5ZGWdYXx0sFA"
      },
      "source": [
        "#apenas 1 linha para recuperar o modelo: recria a estrutura e povoa os pesos\n",
        "new_model = load_model('./mnist_model/final_CNN_model.h5')"
      ],
      "execution_count": null,
      "outputs": []
    },
    {
      "cell_type": "code",
      "metadata": {
        "id": "9kaR0zMP0wzk",
        "colab": {
          "base_uri": "https://localhost:8080/",
          "height": 452
        },
        "outputId": "60543e71-6f15-44c0-d31d-a6272b7bb742"
      },
      "source": [
        "# visualiza N imagens\n",
        "%matplotlib inline\n",
        "def res_Visual(n):\n",
        "    # efetua as predições:\n",
        "    # - argmax() converte os one-hot vector da camada de saída no id da classe\n",
        "    final_opt_a = np.argmax(new_model.predict(X_test[0:n]), axis=-1)    \n",
        "    fig, ax = plt.subplots(nrows=int(n/5),ncols=5 )\n",
        "    ax = ax.flatten()\n",
        "    print('predições para as primeiras {} imagens de teste:'.format(n))\n",
        "    for i in range(n):\n",
        "        print(final_opt_a[i],end=',')\n",
        "        if int((i+1)%5) ==0:\n",
        "            print('\\t')\n",
        "        #Visualize image display.\n",
        "        img = X_test[i].reshape((28,28))#Read each row of data in the format of Ndarry.\n",
        "        plt.axis(\"off\")\n",
        "        ax[i].imshow(img, cmap='Greys', interpolation='nearest')#Visualization\n",
        "        ax[i].axis(\"off\")\n",
        "    print('primeiras {} imagens de teste:'.format(n))\n",
        "\n",
        "\n",
        "res_Visual(50)"
      ],
      "execution_count": null,
      "outputs": [
        {
          "output_type": "stream",
          "name": "stdout",
          "text": [
            "predições para as primeiras 50 imagens de teste:\n",
            "7,2,1,0,4,\t\n",
            "1,4,9,5,9,\t\n",
            "0,6,9,0,1,\t\n",
            "5,9,7,3,4,\t\n",
            "9,6,6,5,4,\t\n",
            "0,7,4,0,1,\t\n",
            "3,1,3,4,7,\t\n",
            "2,7,1,2,1,\t\n",
            "1,7,4,2,3,\t\n",
            "5,1,2,4,4,\t\n",
            "primeiras 50 imagens de teste:\n"
          ]
        },
        {
          "output_type": "display_data",
          "data": {
            "image/png": "[encoded data removed]",
            "text/plain": [
              "<Figure size 432x288 with 50 Axes>"
            ]
          },
          "metadata": {
            "needs_background": "light"
          }
        }
      ]
    },
    {
      "cell_type": "markdown",
      "metadata": {
        "id": "kd9YWjdYGwOU"
      },
      "source": [
        "\n",
        "---\n"
      ]
    }
  ]
}